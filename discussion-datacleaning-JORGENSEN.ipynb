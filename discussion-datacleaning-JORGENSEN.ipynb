{
 "cells": [
  {
   "cell_type": "code",
   "execution_count": 19,
   "id": "e59a75d8",
   "metadata": {},
   "outputs": [],
   "source": [
    "# Import libraries\n",
    "import pandas as pd\n",
    "import numpy as np\n",
    "import os"
   ]
  },
  {
   "cell_type": "code",
   "execution_count": 4,
   "id": "dd47e98f",
   "metadata": {},
   "outputs": [
    {
     "name": "stderr",
     "output_type": "stream",
     "text": [
      "c:\\ProgramData\\anaconda3\\Lib\\site-packages\\openpyxl\\styles\\stylesheet.py:226: UserWarning: Workbook contains no default style, apply openpyxl's default\n",
      "  warn(\"Workbook contains no default style, apply openpyxl's default\")\n",
      "c:\\ProgramData\\anaconda3\\Lib\\site-packages\\openpyxl\\styles\\stylesheet.py:226: UserWarning: Workbook contains no default style, apply openpyxl's default\n",
      "  warn(\"Workbook contains no default style, apply openpyxl's default\")\n",
      "c:\\ProgramData\\anaconda3\\Lib\\site-packages\\openpyxl\\styles\\stylesheet.py:226: UserWarning: Workbook contains no default style, apply openpyxl's default\n",
      "  warn(\"Workbook contains no default style, apply openpyxl's default\")\n"
     ]
    }
   ],
   "source": [
    "# Load in datasets\n",
    "accessions = pd.read_excel('data/all-accn.xlsx')\n",
    "localities = pd.read_excel('data/all-mesozoic.xlsx')\n",
    "specimens = pd.read_excel('data/spec-meso.xlsx')"
   ]
  },
  {
   "cell_type": "markdown",
   "id": "bf107161",
   "metadata": {},
   "source": [
    "I'm going to clean the Specimens data table first! \n",
    "\n",
    "Some of these columns I drop because the variables are presented on other datatables, in a way that makes much more sense from their relationship. For example, the \"Formation\" columnn will be its own table, which links with the Locality table, rather than the specimen table. Other columns contain variables that aren't useful for this project. "
   ]
  },
  {
   "cell_type": "code",
   "execution_count": 5,
   "id": "f2998143",
   "metadata": {},
   "outputs": [],
   "source": [
    "# Drop columns\n",
    "specimens_clean = specimens.drop(columns=['Last Name', 'Storage/Full Name', 'Erathem/Era', 'Formation', 'System/Period', 'Series/Epoch', 'Name'])"
   ]
  },
  {
   "cell_type": "code",
   "execution_count": null,
   "id": "6a0f66a9",
   "metadata": {},
   "outputs": [
    {
     "data": {
      "text/html": [
       "<div>\n",
       "<style scoped>\n",
       "    .dataframe tbody tr th:only-of-type {\n",
       "        vertical-align: middle;\n",
       "    }\n",
       "\n",
       "    .dataframe tbody tr th {\n",
       "        vertical-align: top;\n",
       "    }\n",
       "\n",
       "    .dataframe thead th {\n",
       "        text-align: right;\n",
       "    }\n",
       "</style>\n",
       "<table border=\"1\" class=\"dataframe\">\n",
       "  <thead>\n",
       "    <tr style=\"text-align: right;\">\n",
       "      <th></th>\n",
       "      <th>SpecNo</th>\n",
       "      <th>AccNo</th>\n",
       "      <th>LocNo</th>\n",
       "      <th>Field No</th>\n",
       "      <th>Taxon/Full Name</th>\n",
       "      <th>Element</th>\n",
       "      <th>Portion</th>\n",
       "      <th>Description</th>\n",
       "    </tr>\n",
       "  </thead>\n",
       "  <tbody>\n",
       "    <tr>\n",
       "      <th>0</th>\n",
       "      <td>21047</td>\n",
       "      <td>12.0</td>\n",
       "      <td>V--1994093</td>\n",
       "      <td>1993 DLL 8-9-2</td>\n",
       "      <td>Vertebrata</td>\n",
       "      <td>NaN</td>\n",
       "      <td>NaN</td>\n",
       "      <td>misc. bones and shell</td>\n",
       "    </tr>\n",
       "    <tr>\n",
       "      <th>1</th>\n",
       "      <td>21048</td>\n",
       "      <td>12.0</td>\n",
       "      <td>V--1994093</td>\n",
       "      <td>1993 DLL 8-9-2</td>\n",
       "      <td>Pinales</td>\n",
       "      <td>NaN</td>\n",
       "      <td>NaN</td>\n",
       "      <td>cones of cf. Metasequoia</td>\n",
       "    </tr>\n",
       "    <tr>\n",
       "      <th>2</th>\n",
       "      <td>6511</td>\n",
       "      <td>218.0</td>\n",
       "      <td>-I-1999007</td>\n",
       "      <td>NaN</td>\n",
       "      <td>Animalia</td>\n",
       "      <td>NaN</td>\n",
       "      <td>NaN</td>\n",
       "      <td>Growth of ferruginous oncoliths.</td>\n",
       "    </tr>\n",
       "    <tr>\n",
       "      <th>3</th>\n",
       "      <td>12773</td>\n",
       "      <td>330.0</td>\n",
       "      <td>V--2008017</td>\n",
       "      <td>2008-23</td>\n",
       "      <td>Ornithischia</td>\n",
       "      <td>NaN</td>\n",
       "      <td>NaN</td>\n",
       "      <td>NaN</td>\n",
       "    </tr>\n",
       "    <tr>\n",
       "      <th>4</th>\n",
       "      <td>12774</td>\n",
       "      <td>330.0</td>\n",
       "      <td>V--2008017</td>\n",
       "      <td>2008-23</td>\n",
       "      <td>Hadrosauridae</td>\n",
       "      <td>NaN</td>\n",
       "      <td>NaN</td>\n",
       "      <td>NaN</td>\n",
       "    </tr>\n",
       "  </tbody>\n",
       "</table>\n",
       "</div>"
      ],
      "text/plain": [
       "   SpecNo  AccNo       LocNo        Field No Taxon/Full Name Element Portion  \\\n",
       "0   21047   12.0  V--1994093  1993 DLL 8-9-2      Vertebrata     NaN     NaN   \n",
       "1   21048   12.0  V--1994093  1993 DLL 8-9-2         Pinales     NaN     NaN   \n",
       "2    6511  218.0  -I-1999007             NaN        Animalia     NaN     NaN   \n",
       "3   12773  330.0  V--2008017         2008-23    Ornithischia     NaN     NaN   \n",
       "4   12774  330.0  V--2008017         2008-23   Hadrosauridae     NaN     NaN   \n",
       "\n",
       "                        Description  \n",
       "0             misc. bones and shell  \n",
       "1          cones of cf. Metasequoia  \n",
       "2  Growth of ferruginous oncoliths.  \n",
       "3                               NaN  \n",
       "4                               NaN  "
      ]
     },
     "execution_count": 6,
     "metadata": {},
     "output_type": "execute_result"
    }
   ],
   "source": [
    "# Look at head of df\n",
    "specimens_clean.head()"
   ]
  },
  {
   "cell_type": "code",
   "execution_count": null,
   "id": "048058da",
   "metadata": {},
   "outputs": [],
   "source": [
    "# Filter out unneccessary columns\n",
    "localities_clean = localities.drop(columns=['Elev (ft)', 'Series/Epoch', 'Stage/Age', 'System/Period', 'Datum', 'Township', 'Range', 'Section', 'Subdiv', 'UTM Band', 'UTM Easting', 'UTM Northing', 'Erathem/Era', 'Map', 'UTM Zone'])"
   ]
  },
  {
   "cell_type": "code",
   "execution_count": 16,
   "id": "df8bed4b",
   "metadata": {},
   "outputs": [
    {
     "data": {
      "text/html": [
       "<div>\n",
       "<style scoped>\n",
       "    .dataframe tbody tr th:only-of-type {\n",
       "        vertical-align: middle;\n",
       "    }\n",
       "\n",
       "    .dataframe tbody tr th {\n",
       "        vertical-align: top;\n",
       "    }\n",
       "\n",
       "    .dataframe thead th {\n",
       "        text-align: right;\n",
       "    }\n",
       "</style>\n",
       "<table border=\"1\" class=\"dataframe\">\n",
       "  <thead>\n",
       "    <tr style=\"text-align: right;\">\n",
       "      <th></th>\n",
       "      <th>LocNo</th>\n",
       "      <th>Name</th>\n",
       "      <th>State</th>\n",
       "      <th>County</th>\n",
       "      <th>Latitude1</th>\n",
       "      <th>Longitude1</th>\n",
       "      <th>Formation</th>\n",
       "      <th>Locality Description</th>\n",
       "    </tr>\n",
       "  </thead>\n",
       "  <tbody>\n",
       "    <tr>\n",
       "      <th>0</th>\n",
       "      <td>-I-2001012</td>\n",
       "      <td>Mesozoic Invertebrate Unknowns</td>\n",
       "      <td>NaN</td>\n",
       "      <td>NaN</td>\n",
       "      <td>NaN</td>\n",
       "      <td>NaN</td>\n",
       "      <td>NaN</td>\n",
       "      <td>\"This locality is designated for Mesozoic spec...</td>\n",
       "    </tr>\n",
       "    <tr>\n",
       "      <th>1</th>\n",
       "      <td>V--2009007</td>\n",
       "      <td>England Mesozoic General</td>\n",
       "      <td>NaN</td>\n",
       "      <td>NaN</td>\n",
       "      <td>NaN</td>\n",
       "      <td>NaN</td>\n",
       "      <td>NaN</td>\n",
       "      <td>General locality created to accommodate verteb...</td>\n",
       "    </tr>\n",
       "    <tr>\n",
       "      <th>2</th>\n",
       "      <td>--P2001009</td>\n",
       "      <td>Mesozoic Plant Unknowns</td>\n",
       "      <td>NaN</td>\n",
       "      <td>NaN</td>\n",
       "      <td>NaN</td>\n",
       "      <td>NaN</td>\n",
       "      <td>NaN</td>\n",
       "      <td>\"This locality is for all Mesozoic plant speci...</td>\n",
       "    </tr>\n",
       "    <tr>\n",
       "      <th>3</th>\n",
       "      <td>V--2013049</td>\n",
       "      <td>Clark Metatarsal</td>\n",
       "      <td>Utah</td>\n",
       "      <td>Garfield County</td>\n",
       "      <td>37.55</td>\n",
       "      <td>-111.81</td>\n",
       "      <td>Kaiparowits</td>\n",
       "      <td>NaN</td>\n",
       "    </tr>\n",
       "    <tr>\n",
       "      <th>4</th>\n",
       "      <td>V--2000007</td>\n",
       "      <td>Cretaceous Hell Creek Fm</td>\n",
       "      <td>Montana</td>\n",
       "      <td>NaN</td>\n",
       "      <td>NaN</td>\n",
       "      <td>NaN</td>\n",
       "      <td>Hell Creek</td>\n",
       "      <td>\"Locality includes all specimens which have no...</td>\n",
       "    </tr>\n",
       "  </tbody>\n",
       "</table>\n",
       "</div>"
      ],
      "text/plain": [
       "        LocNo                            Name    State           County  \\\n",
       "0  -I-2001012  Mesozoic Invertebrate Unknowns      NaN              NaN   \n",
       "1  V--2009007        England Mesozoic General      NaN              NaN   \n",
       "2  --P2001009         Mesozoic Plant Unknowns      NaN              NaN   \n",
       "3  V--2013049                Clark Metatarsal     Utah  Garfield County   \n",
       "4  V--2000007        Cretaceous Hell Creek Fm  Montana              NaN   \n",
       "\n",
       "   Latitude1  Longitude1    Formation  \\\n",
       "0        NaN         NaN          NaN   \n",
       "1        NaN         NaN          NaN   \n",
       "2        NaN         NaN          NaN   \n",
       "3      37.55     -111.81  Kaiparowits   \n",
       "4        NaN         NaN   Hell Creek   \n",
       "\n",
       "                                Locality Description  \n",
       "0  \"This locality is designated for Mesozoic spec...  \n",
       "1  General locality created to accommodate verteb...  \n",
       "2  \"This locality is for all Mesozoic plant speci...  \n",
       "3                                                NaN  \n",
       "4  \"Locality includes all specimens which have no...  "
      ]
     },
     "execution_count": 16,
     "metadata": {},
     "output_type": "execute_result"
    }
   ],
   "source": [
    "# Round Latitude1 and Longitude1 to two decimal places, since im not supposed to reveal the coordinates\n",
    "localities_clean['Latitude1'] = localities_clean['Latitude1'].round(2)\n",
    "localities_clean['Longitude1'] = localities_clean['Longitude1'].round(2)\n",
    "\n",
    "# Display the updated DataFrame\n",
    "localities_clean.head()"
   ]
  },
  {
   "cell_type": "code",
   "execution_count": null,
   "id": "1d3fd186",
   "metadata": {},
   "outputs": [
    {
     "data": {
      "text/html": [
       "<div>\n",
       "<style scoped>\n",
       "    .dataframe tbody tr th:only-of-type {\n",
       "        vertical-align: middle;\n",
       "    }\n",
       "\n",
       "    .dataframe tbody tr th {\n",
       "        vertical-align: top;\n",
       "    }\n",
       "\n",
       "    .dataframe thead th {\n",
       "        text-align: right;\n",
       "    }\n",
       "</style>\n",
       "<table border=\"1\" class=\"dataframe\">\n",
       "  <thead>\n",
       "    <tr style=\"text-align: right;\">\n",
       "      <th></th>\n",
       "      <th>AccNo</th>\n",
       "      <th>Date Received</th>\n",
       "      <th>Purp of Coll</th>\n",
       "      <th>Material</th>\n",
       "      <th>Date Received (Year)</th>\n",
       "    </tr>\n",
       "  </thead>\n",
       "  <tbody>\n",
       "    <tr>\n",
       "      <th>0</th>\n",
       "      <td>340</td>\n",
       "      <td>02/26/2009</td>\n",
       "      <td>cast specimen for study; purchased on NSF gran...</td>\n",
       "      <td>cast of Diabloceratops skull</td>\n",
       "      <td>2009.0</td>\n",
       "    </tr>\n",
       "    <tr>\n",
       "      <th>1</th>\n",
       "      <td>139</td>\n",
       "      <td>02/25/1997</td>\n",
       "      <td>General accession of Mississippian fossils fro...</td>\n",
       "      <td>Invertebrate fossils from Lakeview, Montana</td>\n",
       "      <td>1997.0</td>\n",
       "    </tr>\n",
       "    <tr>\n",
       "      <th>2</th>\n",
       "      <td>140</td>\n",
       "      <td>02/28/1997</td>\n",
       "      <td>General accession of Upper Devonian fossils fr...</td>\n",
       "      <td>Invertebrate fossils from Rockford, Iowa</td>\n",
       "      <td>1997.0</td>\n",
       "    </tr>\n",
       "    <tr>\n",
       "      <th>3</th>\n",
       "      <td>141</td>\n",
       "      <td>02/28/1997</td>\n",
       "      <td>General accession of Devonian fossils from Syl...</td>\n",
       "      <td>Invertebrate fossils from Sylvania, Ohio</td>\n",
       "      <td>1997.0</td>\n",
       "    </tr>\n",
       "    <tr>\n",
       "      <th>4</th>\n",
       "      <td>142</td>\n",
       "      <td>03/04/1997</td>\n",
       "      <td>General accession of Late Cretaceous fossils f...</td>\n",
       "      <td>Invertebrate fossils from Pierre Shale, South ...</td>\n",
       "      <td>1997.0</td>\n",
       "    </tr>\n",
       "  </tbody>\n",
       "</table>\n",
       "</div>"
      ],
      "text/plain": [
       "   AccNo Date Received                                       Purp of Coll  \\\n",
       "0    340    02/26/2009  cast specimen for study; purchased on NSF gran...   \n",
       "1    139    02/25/1997  General accession of Mississippian fossils fro...   \n",
       "2    140    02/28/1997  General accession of Upper Devonian fossils fr...   \n",
       "3    141    02/28/1997  General accession of Devonian fossils from Syl...   \n",
       "4    142    03/04/1997  General accession of Late Cretaceous fossils f...   \n",
       "\n",
       "                                            Material  Date Received (Year)  \n",
       "0                       cast of Diabloceratops skull                2009.0  \n",
       "1        Invertebrate fossils from Lakeview, Montana                1997.0  \n",
       "2           Invertebrate fossils from Rockford, Iowa                1997.0  \n",
       "3           Invertebrate fossils from Sylvania, Ohio                1997.0  \n",
       "4  Invertebrate fossils from Pierre Shale, South ...                1997.0  "
      ]
     },
     "execution_count": 9,
     "metadata": {},
     "output_type": "execute_result"
    }
   ],
   "source": [
    "# Look at head of df\n",
    "accessions.head()"
   ]
  },
  {
   "cell_type": "code",
   "execution_count": null,
   "id": "08fe1cc8",
   "metadata": {},
   "outputs": [],
   "source": [
    "# Drop nas from this column, since we need to know the year the specimens were received\n",
    "accessions_clean = accessions.dropna(subset=['Date Received (Year)'])"
   ]
  },
  {
   "cell_type": "code",
   "execution_count": 12,
   "id": "481edc50",
   "metadata": {},
   "outputs": [
    {
     "name": "stdout",
     "output_type": "stream",
     "text": [
      "0    2009\n",
      "1    1997\n",
      "2    1997\n",
      "3    1997\n",
      "4    1997\n",
      "Name: Date Received (Year), dtype: int32\n"
     ]
    }
   ],
   "source": [
    "# Extract the year as an integer\n",
    "accessions_clean.loc[:, 'Date Received (Year)'] = accessions_clean['Date Received (Year)'].astype(int)\n",
    "print(accessions_clean['Date Received (Year)'].head())"
   ]
  },
  {
   "cell_type": "code",
   "execution_count": null,
   "id": "ceff98c2",
   "metadata": {},
   "outputs": [
    {
     "data": {
      "text/plain": [
       "Index(['LocNo', 'Name', 'State', 'County', 'Latitude1', 'Longitude1',\n",
       "       'Township', 'Range', 'Section', 'Subdiv', 'Elev (ft)', 'Datum',\n",
       "       'UTM Zone', 'UTM Band', 'UTM Easting', 'UTM Northing', 'Map',\n",
       "       'Formation', 'Series/Epoch', 'Stage/Age', 'System/Period',\n",
       "       'Erathem/Era', 'Locality Description'],\n",
       "      dtype='object')"
      ]
     },
     "execution_count": 13,
     "metadata": {},
     "output_type": "execute_result"
    }
   ],
   "source": [
    "# Check column names\n",
    "localities.columns"
   ]
  },
  {
   "cell_type": "code",
   "execution_count": null,
   "id": "6c64f2d1",
   "metadata": {},
   "outputs": [],
   "source": [
    "# Drop unnecessary columns\n",
    "formations = localities[['Formation', 'Series/Epoch', 'System/Period', 'Erathem/Era', 'Stage/Age']]"
   ]
  },
  {
   "cell_type": "code",
   "execution_count": null,
   "id": "96037d44",
   "metadata": {},
   "outputs": [
    {
     "name": "stdout",
     "output_type": "stream",
     "text": [
      "     Formation Series/Epoch System/Period Erathem/Era Stage/Age\n",
      "3  Kaiparowits          NaN    Cretaceous    Mesozoic       NaN\n",
      "4   Hell Creek          NaN    Cretaceous    Mesozoic       NaN\n",
      "5  Kaiparowits          NaN    Cretaceous    Mesozoic       NaN\n",
      "6  Kaiparowits          NaN    Cretaceous    Mesozoic       NaN\n",
      "7  Kaiparowits          NaN    Cretaceous    Mesozoic       NaN\n"
     ]
    }
   ],
   "source": [
    "# Drop nas, since this will be a primary key its important to have no missing values\n",
    "formations_clean = formations.dropna(subset=['Formation'])\n",
    "print(formations_clean.head())"
   ]
  },
  {
   "cell_type": "code",
   "execution_count": 18,
   "id": "16f27399",
   "metadata": {},
   "outputs": [
    {
     "name": "stdout",
     "output_type": "stream",
     "text": [
      "Index(['locno', 'name', 'state', 'county', 'latitude1', 'longitude1',\n",
      "       'formation', 'locality_description'],\n",
      "      dtype='object')\n",
      "Index(['specno', 'accno', 'locno', 'field_no', 'taxon_full_name', 'element',\n",
      "       'portion', 'description'],\n",
      "      dtype='object')\n",
      "Index(['accno', 'date_received', 'purp_of_coll', 'material',\n",
      "       'date_received_(year)'],\n",
      "      dtype='object')\n",
      "Index(['formation', 'series_epoch', 'system_period', 'erathem_era',\n",
      "       'stage_age'],\n",
      "      dtype='object')\n"
     ]
    }
   ],
   "source": [
    "# Function to convert column names to lower snake case\n",
    "def to_snake_case(df):\n",
    "    df.columns = df.columns.str.lower().str.replace(' ', '_').str.replace('/', '_')\n",
    "    return df\n",
    "\n",
    "# Apply the function to all of the DataFrames\n",
    "localities_clean = to_snake_case(localities_clean)\n",
    "specimens_clean = to_snake_case(specimens_clean)\n",
    "accessions_clean = to_snake_case(accessions_clean)\n",
    "formations_clean = to_snake_case(formations_clean)\n",
    "\n",
    "# Display the updated column names for verification\n",
    "print(localities_clean.columns)\n",
    "print(specimens_clean.columns)\n",
    "print(accessions_clean.columns)\n",
    "print(formations_clean.columns)"
   ]
  },
  {
   "cell_type": "markdown",
   "id": "4e7c3120",
   "metadata": {},
   "source": [
    "I've cleaned the data and ended up with my four tables to insert into my database: \n",
    "1. specimens_clean\n",
    "2. localities_clean\n",
    "3. accessions_clean\n",
    "4. formations_clean\n",
    "\n",
    "In the next code chunk I will save them as csv's, to be input into my database"
   ]
  },
  {
   "cell_type": "code",
   "execution_count": 22,
   "id": "10ce8978",
   "metadata": {},
   "outputs": [],
   "source": [
    "# Define the outputs folder path\n",
    "outputs = os.path.join(os.getcwd(), 'outputs')\n",
    "\n",
    "# Save CSVs with a placeholder for NaN values\n",
    "localities_clean.to_csv(os.path.join(outputs, 'localities_clean.csv'), index=False, na_rep='NULL')\n",
    "specimens_clean.to_csv(os.path.join(outputs, 'specimens_clean.csv'), index=False, na_rep='NULL')\n",
    "accessions_clean.to_csv(os.path.join(outputs, 'accessions_clean.csv'), index=False, na_rep='NULL')\n",
    "formations_clean.to_csv(os.path.join(outputs, 'formations_clean.csv'), index=False, na_rep='NULL')"
   ]
  },
  {
   "cell_type": "code",
   "execution_count": null,
   "id": "e5744d29",
   "metadata": {},
   "outputs": [],
   "source": []
  }
 ],
 "metadata": {
  "kernelspec": {
   "display_name": "base",
   "language": "python",
   "name": "python3"
  },
  "language_info": {
   "codemirror_mode": {
    "name": "ipython",
    "version": 3
   },
   "file_extension": ".py",
   "mimetype": "text/x-python",
   "name": "python",
   "nbconvert_exporter": "python",
   "pygments_lexer": "ipython3",
   "version": "3.12.4"
  }
 },
 "nbformat": 4,
 "nbformat_minor": 5
}
